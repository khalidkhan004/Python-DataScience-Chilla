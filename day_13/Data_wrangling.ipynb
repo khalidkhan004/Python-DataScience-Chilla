{
 "cells": [
  {
   "cell_type": "code",
   "execution_count": null,
   "metadata": {},
   "outputs": [],
   "source": []
  }
 ],
 "metadata": {
  "kernelspec": {
   "display_name": "Python 3.11.1 64-bit",
   "language": "python",
   "name": "python3"
  },
  "language_info": {
   "name": "python",
   "version": "3.11.1"
  },
  "orig_nbformat": 4,
  "vscode": {
   "interpreter": {
    "hash": "9368f4ff23eaf844ccf1bac54b24fa7e234d4d62add0d61cb66423f7afd3b01b"
   }
  }
 },
 "nbformat": 4,
 "nbformat_minor": 2
}
